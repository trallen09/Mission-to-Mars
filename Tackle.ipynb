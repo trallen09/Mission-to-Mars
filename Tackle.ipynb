{
 "cells": [
  {
   "cell_type": "code",
   "execution_count": 1,
   "metadata": {},
   "outputs": [],
   "source": [
    "from splinter import Browser\n",
    "from bs4 import BeautifulSoup as soup\n",
    "from webdriver_manager.chrome import ChromeDriverManager\n",
    "import requests\n",
    "import re"
   ]
  },
  {
   "cell_type": "code",
   "execution_count": 2,
   "metadata": {},
   "outputs": [
    {
     "name": "stderr",
     "output_type": "stream",
     "text": [
      "\n",
      "\n",
      "====== WebDriver manager ======\n",
      "Current google-chrome version is 90.0.4430\n",
      "Get LATEST driver version for 90.0.4430\n",
      "Driver [C:\\Users\\Tommy\\.wdm\\drivers\\chromedriver\\win32\\90.0.4430.24\\chromedriver.exe] found in cache\n"
     ]
    }
   ],
   "source": [
    "# Set up Splinter\n",
    "executable_path = {'executable_path': ChromeDriverManager().install()}\n",
    "browser = Browser('chrome', **executable_path, headless=False)"
   ]
  },
  {
   "cell_type": "code",
   "execution_count": 3,
   "metadata": {},
   "outputs": [],
   "source": [
    "# Visit the Quotes to Scrape site\n",
    "url = 'https://majorleaguefishing.com/series/2020-11-01-top-10-baits-from-dale-hollow/'\n",
    "browser.visit(url)"
   ]
  },
  {
   "cell_type": "code",
   "execution_count": 4,
   "metadata": {},
   "outputs": [],
   "source": [
    "# Parse the HTML\n",
    "html = browser.html\n",
    "html_soup = soup(html, 'html.parser')"
   ]
  },
  {
   "cell_type": "code",
   "execution_count": 5,
   "metadata": {},
   "outputs": [
    {
     "data": {
      "text/plain": [
       "'Top 10 Baits from Dale Hollow'"
      ]
     },
     "execution_count": 5,
     "metadata": {},
     "output_type": "execute_result"
    }
   ],
   "source": [
    "# Scrape the Title\n",
    "title = html_soup.find('h1').text\n",
    "title"
   ]
  },
  {
   "cell_type": "code",
   "execution_count": 6,
   "metadata": {},
   "outputs": [
    {
     "name": "stdout",
     "output_type": "stream",
     "text": [
      "https://www.tacklewarehouse.com/Roboworm_Straight_Tail_Worms/descpage-RW45ST.html?from=flwo\n",
      "https://www.tacklewarehouse.com/Silver_Buddy_Blade_Bait/descpage-SLBY.html?from=flwo\n",
      "https://www.tacklewarehouse.com/Berkley_Trilene_100_Fluorocarbon_Line_Clear/descpage-NTB.html?from=flwo\n",
      "https://www.tacklewarehouse.com/Strike_King_KVD_HC_Shallow_Squarebill_15_Crankbait/descpage-KVDSSB.html?from=flwo\n",
      "https://www.tacklewarehouse.com/Zoom_Brush_Hogs/descpage-ZBBH.html?from=flwo\n",
      "https://www.tacklewarehouse.com/Owner/catpage-OWNER.html\n",
      "https://www.tacklewarehouse.com/Cotton_Cordell_Jigging_Spoons_2pk/descpage-CCSP.html?from=flwo\n",
      "https://www.tacklewarehouse.com/Hammer_Casting_Rods/catpage-HFRC.html?from=flwo\n",
      "https://www.tacklewarehouse.com/Picasso_HD_Bait_Ball_Umbrella_Rigs/descpage-PHDBBUR.html?from=flwo\n",
      "https://www.tacklewarehouse.com/Big_Bite_Baits_Finesse_Swimmer_4pk/descpage-BBBFS.html?from=flwo\n",
      "https://www.tacklewarehouse.com/Shimano_Casting_Reels/catpage-RLCSHIMANO.html?from=flwo\n",
      "https://www.tacklewarehouse.com/Duo_Realis_Apex_Vibe_Lipless_Crankbait/descpage-DRAVB.html?from=flwo\n",
      "https://www.tacklewarehouse.com/Dirty_Jigs_Swim_Jig/descpage-DTYJGSJ.html?from=flwo\n",
      "https://www.tacklewarehouse.com/G_Loomis_IMX_Pro_Flip_and_Pitch_Casting_Rods/descpage-FPIM.html?from=flwo\n",
      "https://www.tacklewarehouse.com/Shimano_Curado_200K_Casting_Reels/descpage-CRDK.html?from=flwo\n",
      "https://www.tacklewarehouse.com/Seaguar_InvizX_Fluorocarbon_Line/descpage-SIF.html?from=flwo\n",
      "https://www.tacklewarehouse.com/Roboworm_Straight_Tail_Worms/descpage-RW45ST.html?from=flwo\n",
      "https://www.tacklewarehouse.com/Roboworm_Straight_Tail_Worms/descpage-RW45ST.html?from=flwo\n",
      "https://www.tacklewarehouse.com/Owner_Cover_Shot_Worm_Hooks_5pk/descpage-OCSG.html?from=flwo\n",
      "https://www.tacklewarehouse.com/Strike_King_KVD_Perfect_Plastic_Ocho/descpage-SKPO.html?from=flwo\n",
      "https://www.tacklewarehouse.com/Favorite_Defender_Casting_Rods/descpage-FAVDC.html?from=flwo\n",
      "https://www.tacklewarehouse.com/Shimano_SLX_150_DC_Casting_Reel/descpage-SLX15.html?from=flwo\n",
      "https://www.tacklewarehouse.com/Seaguar_Fishing_Line/catpage-LNESEAGUAR.html?from=flwo\n",
      "https://www.tacklewarehouse.com/Bandit_Rackit_Squarebill_Crankbaits/descpage-BRK.html?from=flwo\n",
      "https://www.tacklewarehouse.com/Reaction_Innovations_Sweet_Beaver_420_10pk/descpage-RISB.html?from=flwo\n",
      "https://www.tacklewarehouse.com/Jenko_Fishing_Creature_Weight/descpage-JCWT.html?from=flwo\n",
      "https://www.tacklewarehouse.com/Scottsboro_Tackle_Co_Swimbaits/descpage-WIM.html?from=flwo\n",
      "https://www.tacklewarehouse.com/Roboworm_Straight_Tail_Worms/descpage-RW45ST.html?from=flwo\n",
      "https://www.tacklewarehouse.com/War_Eagle_Spinnerbaits/catpage-WESB.html?from=flwo\n",
      "https://www.tacklewarehouse.com/Zoom_Big_Salty_Chunk_5pk/descpage-ZBSC.html?from=flwo\n"
     ]
    }
   ],
   "source": [
    "# Scrape the top ten tags\n",
    "article = html_soup.find('div', class_='article')\n",
    "\n",
    "# https://www.geeksforgeeks.org/beautifulsoup-scraping-link-from-html/\n",
    "# find all the anchor tags with \"href\" \n",
    "# attribute starting with \"https://\"\n",
    "for link in article.find_all('a', attrs={'href': re.compile(\"^https://www.tackle\")}):\n",
    "    # display the actual urls\n",
    "    print(link.get('href')) "
   ]
  },
  {
   "cell_type": "code",
   "execution_count": null,
   "metadata": {},
   "outputs": [],
   "source": []
  },
  {
   "cell_type": "code",
   "execution_count": null,
   "metadata": {},
   "outputs": [],
   "source": []
  },
  {
   "cell_type": "code",
   "execution_count": null,
   "metadata": {},
   "outputs": [],
   "source": []
  }
 ],
 "metadata": {
  "kernelspec": {
   "display_name": "PythonData",
   "language": "python",
   "name": "pythondata"
  },
  "language_info": {
   "codemirror_mode": {
    "name": "ipython",
    "version": 3
   },
   "file_extension": ".py",
   "mimetype": "text/x-python",
   "name": "python",
   "nbconvert_exporter": "python",
   "pygments_lexer": "ipython3",
   "version": "3.7.9"
  }
 },
 "nbformat": 4,
 "nbformat_minor": 4
}
